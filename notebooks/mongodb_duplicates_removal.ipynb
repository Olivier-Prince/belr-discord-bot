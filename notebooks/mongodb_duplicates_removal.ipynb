{
 "cells": [
  {
   "cell_type": "code",
   "execution_count": 12,
   "id": "endangered-response",
   "metadata": {},
   "outputs": [],
   "source": [
    "import xml.etree.ElementTree as ET\n",
    "import html2markdown\n",
    "import os\n",
    "from pymongo import MongoClient\n",
    "import pprint as pp\n",
    "import json\n",
    "\n",
    "data_path = fr'{os.getenv(\"HOME\")}/GitHub/RNCP34757BC02/brief-AGILE-chatBot/data'\n",
    "# subdir = \"workplace.meta.stackexchange.com\"\n",
    "file_name = \"Posts.xml\""
   ]
  },
  {
   "cell_type": "code",
   "execution_count": 13,
   "id": "extensive-indicator",
   "metadata": {},
   "outputs": [],
   "source": [
    "def add_posts(data, language, topic, Id=1, old_Id=1):\n",
    "    posts = []\n",
    "    for i in range(len(data['conversations'])):\n",
    "        for j in range(2):\n",
    "            if j == 0:\n",
    "                PostTypeId = 1\n",
    "                post = {\n",
    "                    'Id': Id,\n",
    "                    'PostTypeId': str(PostTypeId),\n",
    "                    'Score': '1',\n",
    "                    \"ViewCount\": \"1\",\n",
    "                    'Title': data['conversations'][i][j],\n",
    "                    \"AnswerCount\": \"1\",\n",
    "                    'Language': language,\n",
    "                    'Topic': topic,\n",
    "                }\n",
    "            else:\n",
    "                PostTypeId = 2\n",
    "                post = {\n",
    "                    'Id': Id,\n",
    "                    'PostTypeId': str(PostTypeId),\n",
    "                    'ParentId': str(old_Id),\n",
    "                    'Score': '1',\n",
    "                    'Body': data['conversations'][i][j],\n",
    "                    'Language': language,\n",
    "                    'Topic': topic,\n",
    "                }\n",
    "            posts.append(post)\n",
    "            old_Id = Id\n",
    "            Id += 1\n",
    "    return posts, Id, old_Id"
   ]
  },
  {
   "cell_type": "code",
   "execution_count": 15,
   "id": "british-comfort",
   "metadata": {},
   "outputs": [
    {
     "name": "stdout",
     "output_type": "stream",
     "text": [
      "JSON\n",
      "/home/olivier/GitHub/RNCP34757BC02/brief-AGILE-chatBot/data/JSON\n"
     ]
    }
   ],
   "source": [
    "for subdir in os.listdir(data_path):\n",
    "    print(subdir)\n",
    "    current_path = os.path.join(data_path, subdir)\n",
    "    print(current_path)\n",
    "    for file in os.listdir(current_path):\n",
    "        if file == file_name:\n",
    "            posts_tree = ET.parse(os.path.join(current_path, file))\n",
    "            posts = posts_tree.getroot()\n",
    "\n",
    "            if \"meta\" in subdir:\n",
    "                topic = subdir[:-23]\n",
    "            else:\n",
    "                topic = subdir[:-17]\n",
    "\n",
    "            posts_list = [row.attrib for row in posts]\n",
    "\n",
    "            for post in post_list:\n",
    "                post['Body'] = html2markdown.convert(post['Body'])\n",
    "                post['Topic'] = topic            "
   ]
  },
  {
   "cell_type": "code",
   "execution_count": 3,
   "id": "technical-testimony",
   "metadata": {},
   "outputs": [
    {
     "data": {
      "text/plain": [
       "Collection(Database(MongoClient(host=['localhost:27017'], document_class=dict, tz_aware=False, connect=True), 'StarkBotBD'), 'Quest_Rep')"
      ]
     },
     "execution_count": 3,
     "metadata": {},
     "output_type": "execute_result"
    }
   ],
   "source": [
    "# Connexion to mongodb with pymongo\n",
    "# Connection by default to db at localhost:27017\n",
    "connection = MongoClient()\n",
    "\n",
    "# STARKBOT DB creation\n",
    "db = connection[\"StarkBotBD\"]\n",
    "collection = db.Quest_Rep\n",
    "collection"
   ]
  },
  {
   "cell_type": "code",
   "execution_count": 4,
   "id": "attended-recall",
   "metadata": {},
   "outputs": [
    {
     "name": "stdout",
     "output_type": "stream",
     "text": [
      "5774 documents in StarkBotBD\n"
     ]
    }
   ],
   "source": [
    "initial_present_docs = collection.count_documents({})\n",
    "print(initial_present_docs, \"documents in\", db.name)"
   ]
  },
  {
   "cell_type": "code",
   "execution_count": 5,
   "id": "talented-franchise",
   "metadata": {},
   "outputs": [
    {
     "name": "stdout",
     "output_type": "stream",
     "text": [
      "{'AcceptedAnswerId': '18',\n",
      " 'AnswerCount': '1',\n",
      " 'Body': 'I have been working on a \"bot\" for operating on various websites. I '\n",
      "         'want the bot to be able to accept and send XLM between two parties, '\n",
      "         \"even if the receiving party doesn't yet have a XLM address. \\n\"\n",
      "         '\\n'\n",
      "         'The idea is to build a way to ask questions to the community and get '\n",
      "         'rewarded for the right answers. If people want, they can put a '\n",
      "         '\"bounty\" on the question being asked, and then promise that the '\n",
      "         '\"bounty\" is paid out to the best answer.\\n'\n",
      "         '\\n'\n",
      "         'Beyond creating an interim XLM address (which seems risky',\n",
      " 'CommentCount': '1',\n",
      " 'ContentLicense': 'CC BY-SA 3.0',\n",
      " 'CreationDate': '2018-01-17T19:36:36.297',\n",
      " 'FavoriteCount': '1',\n",
      " 'Id': '1',\n",
      " 'LastActivityDate': '2018-01-17T22:03:13.630',\n",
      " 'LastEditDate': '2018-01-17T22:03:13.630',\n",
      " 'LastEditorUserId': '33',\n",
      " 'OwnerUserId': '34',\n",
      " 'PostTypeId': '1',\n",
      " 'Score': '-2',\n",
      " 'Tags': '<xlm><transactions>',\n",
      " 'Title': 'Are there any frameworks for managing the exchange of XLM between '\n",
      "          \"two XLM addresses when the receiving end party address isn't known?\",\n",
      " 'Topic': 'stellar.',\n",
      " 'ViewCount': '107'}\n"
     ]
    }
   ],
   "source": [
    "post = posts_list[0]\n",
    "pp.pprint(post)"
   ]
  },
  {
   "cell_type": "code",
   "execution_count": 7,
   "id": "composed-procurement",
   "metadata": {},
   "outputs": [
    {
     "data": {
      "text/plain": [
       "'stellar.'"
      ]
     },
     "execution_count": 7,
     "metadata": {},
     "output_type": "execute_result"
    }
   ],
   "source": [
    "post[\"Topic\"]"
   ]
  },
  {
   "cell_type": "code",
   "execution_count": 11,
   "id": "sophisticated-alloy",
   "metadata": {},
   "outputs": [
    {
     "ename": "AttributeError",
     "evalue": "'Cursor' object has no attribute 'count_documents'",
     "output_type": "error",
     "traceback": [
      "\u001b[0;31m---------------------------------------------------------------------------\u001b[0m",
      "\u001b[0;31mAttributeError\u001b[0m                            Traceback (most recent call last)",
      "\u001b[0;32m<ipython-input-11-9f80dba9a267>\u001b[0m in \u001b[0;36m<module>\u001b[0;34m\u001b[0m\n\u001b[1;32m      1\u001b[0m \u001b[0;32mfor\u001b[0m \u001b[0mpost\u001b[0m \u001b[0;32min\u001b[0m \u001b[0mpost_list\u001b[0m\u001b[0;34m:\u001b[0m\u001b[0;34m\u001b[0m\u001b[0;34m\u001b[0m\u001b[0m\n\u001b[1;32m      2\u001b[0m     \u001b[0mquery\u001b[0m \u001b[0;34m=\u001b[0m \u001b[0mcollection\u001b[0m\u001b[0;34m.\u001b[0m\u001b[0mfind\u001b[0m\u001b[0;34m(\u001b[0m\u001b[0;34m{\u001b[0m\u001b[0;34m\"$and\"\u001b[0m\u001b[0;34m:\u001b[0m \u001b[0;34m[\u001b[0m\u001b[0;34m{\u001b[0m\u001b[0;34m\"Id\"\u001b[0m\u001b[0;34m:\u001b[0m \u001b[0mpost\u001b[0m\u001b[0;34m[\u001b[0m\u001b[0;34m\"Id\"\u001b[0m\u001b[0;34m]\u001b[0m\u001b[0;34m,\u001b[0m \u001b[0;34m\"Topic\"\u001b[0m\u001b[0;34m:\u001b[0m \u001b[0mpost\u001b[0m\u001b[0;34m[\u001b[0m\u001b[0;34m\"Topic\"\u001b[0m\u001b[0;34m]\u001b[0m\u001b[0;34m}\u001b[0m\u001b[0;34m]\u001b[0m\u001b[0;34m}\u001b[0m\u001b[0;34m)\u001b[0m\u001b[0;34m\u001b[0m\u001b[0;34m\u001b[0m\u001b[0m\n\u001b[0;32m----> 3\u001b[0;31m     \u001b[0;32mif\u001b[0m \u001b[0mquery\u001b[0m\u001b[0;34m.\u001b[0m\u001b[0mcount_documents\u001b[0m\u001b[0;34m(\u001b[0m\u001b[0;34m)\u001b[0m \u001b[0;34m==\u001b[0m \u001b[0;36m0\u001b[0m\u001b[0;34m:\u001b[0m\u001b[0;34m\u001b[0m\u001b[0;34m\u001b[0m\u001b[0m\n\u001b[0m\u001b[1;32m      4\u001b[0m         \u001b[0mcollection\u001b[0m\u001b[0;34m.\u001b[0m\u001b[0minsert_one\u001b[0m\u001b[0;34m(\u001b[0m\u001b[0mpost\u001b[0m\u001b[0;34m)\u001b[0m\u001b[0;34m\u001b[0m\u001b[0;34m\u001b[0m\u001b[0m\n\u001b[1;32m      5\u001b[0m         \u001b[0mprint\u001b[0m\u001b[0;34m(\u001b[0m\u001b[0;34m\"document inserted\"\u001b[0m\u001b[0;34m,\u001b[0m \u001b[0mpost\u001b[0m\u001b[0;34m[\u001b[0m\u001b[0;34m\"_id\"\u001b[0m\u001b[0;34m]\u001b[0m\u001b[0;34m)\u001b[0m\u001b[0;34m\u001b[0m\u001b[0;34m\u001b[0m\u001b[0m\n",
      "\u001b[0;31mAttributeError\u001b[0m: 'Cursor' object has no attribute 'count_documents'"
     ]
    }
   ],
   "source": [
    "for post in posts_list:\n",
    "    query = collection.find({\"$and\": [{\"Id\": post[\"Id\"], \"Topic\": post[\"Topic\"]}]})\n",
    "    if query.count() == 0:\n",
    "        collection.insert_one(post)\n",
    "        print(\"document inserted\", post[\"_id\"])"
   ]
  },
  {
   "cell_type": "code",
   "execution_count": null,
   "id": "generous-statistics",
   "metadata": {},
   "outputs": [],
   "source": [
    "present_docs = db.Quest_Rep.count_documents({})\n",
    "inserted_docs = present_docs - initial_present_docs\n",
    "print(inserted_docs, \"documents have been inserted in\", db.name)\n",
    "print(present_docs, \"documents in\", db.name)"
   ]
  }
 ],
 "metadata": {
  "kernelspec": {
   "display_name": "Python 3",
   "language": "python",
   "name": "python3"
  },
  "language_info": {
   "codemirror_mode": {
    "name": "ipython",
    "version": 3
   },
   "file_extension": ".py",
   "mimetype": "text/x-python",
   "name": "python",
   "nbconvert_exporter": "python",
   "pygments_lexer": "ipython3",
   "version": "3.7.9"
  }
 },
 "nbformat": 4,
 "nbformat_minor": 5
}
