{
 "cells": [
  {
   "cell_type": "code",
   "execution_count": 1,
   "metadata": {},
   "outputs": [],
   "source": [
    "from chatterbot import ChatBot\n",
    "from chatterbot.comparisons import levenshtein_distance\n",
    "from chatterbot.response_selection import get_first_response\n",
    "from chatterbot.trainers import ChatterBotCorpusTrainer"
   ]
  },
  {
   "cell_type": "code",
   "execution_count": 2,
   "metadata": {},
   "outputs": [
    {
     "name": "stdout",
     "output_type": "stream",
     "text": [
      "\r",
      "Training ai.yml: [                    ] 1%"
     ]
    },
    {
     "name": "stderr",
     "output_type": "stream",
     "text": [
      "[nltk_data] Downloading package stopwords to\n",
      "[nltk_data]     /home/anthony/nltk_data...\n",
      "[nltk_data]   Package stopwords is already up-to-date!\n",
      "[nltk_data] Downloading package averaged_perceptron_tagger to\n",
      "[nltk_data]     /home/anthony/nltk_data...\n",
      "[nltk_data]   Package averaged_perceptron_tagger is already up-to-\n",
      "[nltk_data]       date!\n"
     ]
    },
    {
     "name": "stdout",
     "output_type": "stream",
     "text": [
      "Training ai.yml: [####################] 100%\n",
      "Training botprofile.yml: [####################] 100%\n",
      "Training computers.yml: [####################] 100%\n",
      "Training conversations.yml: [####################] 100%\n",
      "Training emotion.yml: [####################] 100%\n",
      "Training food.yml: [####################] 100%\n",
      "Training gossip.yml: [####################] 100%\n",
      "Training greetings.yml: [####################] 100%\n",
      "Training health.yml: [####################] 100%\n",
      "Training history.yml: [####################] 100%\n",
      "Training humor.yml: [####################] 100%\n",
      "Training literature.yml: [####################] 100%\n",
      "Training money.yml: [####################] 100%\n",
      "Training movies.yml: [####################] 100%\n",
      "Training politics.yml: [####################] 100%\n",
      "Training psychology.yml: [####################] 100%\n",
      "Training science.yml: [####################] 100%\n",
      "Training sports.yml: [####################] 100%\n",
      "Training trivia.yml: [####################] 100%\n"
     ]
    }
   ],
   "source": [
    "#chatbot = ChatBot('J.A.R.V.I.S',\n",
    "#                 logic_adapters=[\n",
    "#        {\n",
    "#            \"import_path\": \"chatterbot.logic.BestMatch\",\n",
    "#            \"statement_comparison_function\": levenshtein_distance,\n",
    "#            \"response_selection_method\": get_first_response\n",
    "#        }])\n",
    "chatbot = ChatBot('J.A.R.V.I.S')\n",
    "# First, lets train our bot with some data\n",
    "trainer = ChatterBotCorpusTrainer(chatbot)\n",
    "\n",
    "trainer.train('chatterbot.corpus.english')#, 'chatterbot.corpus.french')"
   ]
  },
  {
   "cell_type": "code",
   "execution_count": 3,
   "metadata": {},
   "outputs": [
    {
     "name": "stdout",
     "output_type": "stream",
     "text": [
      "什麼是籃球\n"
     ]
    }
   ],
   "source": [
    "response = chatbot.get_response(\"Good morning!\")\n",
    "print(response)\n"
   ]
  },
  {
   "cell_type": "code",
   "execution_count": 4,
   "metadata": {},
   "outputs": [
    {
     "name": "stdout",
     "output_type": "stream",
     "text": [
      "hi\n",
      "How are you doing?\n",
      "fine, thank's and you\n",
      "you are an addict\n",
      "not at all\n",
      "What is a ratchet jaw\n",
      "I don't know and you?\n",
      "I can be programmed to act and react as if I feel emotions. Does that count?\n",
      "no matter, what are you doing?\n",
      "Alice in Wonderland\n",
      "I don't anderstand\n",
      "Dans Internet.\n",
      "have you smoke today?\n",
      "I consume RAM, and binary digits.\n",
      "It's all?$\n",
      "you are not concerned\n",
      "yes, but i think you are idiot\n",
      "is a science fiction film about a female pleasure bot named agent ruby.\n",
      "how a computer works?\n",
      "So you think i am a machine. what characteristics made you think so?\n",
      "because you are stupid\n",
      "No, we are superintelligent.\n",
      "prouve it\n",
      "Jika implementasinya mudah untuk menjelaskan, mungkin itu ide yang baik.\n",
      "speak in french prease\n",
      "你好吗?\n",
      "do you speak french?\n",
      "How angry\n",
      "Do you know what is AI\n",
      "Artificial Intelligence is the branch of engineering and science devoted to constructing machines that think.\n",
      "and you y\n",
      "月亮有多远\n",
      "you are a robot\n",
      "Yes I am.\n",
      "intelligent?\n",
      "Blue\n",
      "not at all\n",
      "godzilla is a monster who endangers japanese cities, and sometimes new york.\n",
      "ok, bye\n",
      "Mon cerveau n'a besoin d'aucune boisson.\n"
     ]
    }
   ],
   "source": [
    "while True:\n",
    "    try:\n",
    "        bot_input = chatbot.get_response(input())\n",
    "        print(bot_input)\n",
    "\n",
    "    except(KeyboardInterrupt, EOFError, SystemExit):\n",
    "        break"
   ]
  },
  {
   "cell_type": "code",
   "execution_count": null,
   "metadata": {},
   "outputs": [],
   "source": []
  }
 ],
 "metadata": {
  "kernelspec": {
   "display_name": "Python 3",
   "language": "python",
   "name": "python3"
  },
  "language_info": {
   "codemirror_mode": {
    "name": "ipython",
    "version": 3
   },
   "file_extension": ".py",
   "mimetype": "text/x-python",
   "name": "python",
   "nbconvert_exporter": "python",
   "pygments_lexer": "ipython3",
   "version": "3.8.5"
  }
 },
 "nbformat": 4,
 "nbformat_minor": 4
}
