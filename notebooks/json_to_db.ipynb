{
 "cells": [
  {
   "cell_type": "code",
   "execution_count": null,
   "id": "vulnerable-suggestion",
   "metadata": {},
   "outputs": [],
   "source": [
    "import json\n",
    "from pymongo import MongoClient\n",
    "\n",
    "try:\n",
    "    client = MongoClient('localhost', 27017)\n",
    "    print(\"SUCCESSFULLY connected to StarkBotBD :-)\")\n",
    "except MongoClient.DoesNotExist:\n",
    "    print(\"Could NOT connect to StarkBotBD :-(\")"
   ]
  },
  {
   "cell_type": "code",
   "execution_count": null,
   "id": "numerical-insight",
   "metadata": {},
   "outputs": [],
   "source": [
    "json_file = \"\""
   ]
  },
  {
   "cell_type": "code",
   "execution_count": null,
   "id": "hearing-basement",
   "metadata": {},
   "outputs": [],
   "source": [
    "db = client['test']\n",
    "collection_Quest_Rep = db['Quest_Rep']"
   ]
  },
  {
   "cell_type": "code",
   "execution_count": null,
   "id": "adjusted-cologne",
   "metadata": {},
   "outputs": [],
   "source": [
    "json_file = input(\"Enter json file to upload to StarkBotBD :\")"
   ]
  },
  {
   "cell_type": "code",
   "execution_count": null,
   "id": "sunset-amino",
   "metadata": {},
   "outputs": [],
   "source": [
    "json_file"
   ]
  },
  {
   "cell_type": "code",
   "execution_count": null,
   "id": "elect-hostel",
   "metadata": {},
   "outputs": [],
   "source": [
    "# JSON file\n",
    "f = open (json_file, \"r\")"
   ]
  },
  {
   "cell_type": "code",
   "execution_count": null,
   "id": "fiscal-silver",
   "metadata": {},
   "outputs": [],
   "source": [
    "# Reading from file\n",
    "data = json.load(f)"
   ]
  },
  {
   "cell_type": "code",
   "execution_count": null,
   "id": "major-receiver",
   "metadata": {},
   "outputs": [],
   "source": [
    "data"
   ]
  },
  {
   "cell_type": "code",
   "execution_count": null,
   "id": "nutritional-intake",
   "metadata": {},
   "outputs": [],
   "source": [
    "# if pymongo < 3.0, use insert()\n",
    "# collection_Quest_Rep.insert(file_data)\n",
    "# if pymongo >= 3.0 use insert_one() for inserting one document\n",
    "# collection_Quest_Rep.insert_one(file_data)\n",
    "# if pymongo >= 3.0 use insert_many() for inserting many documents\n",
    "insertion = collection_Quest_Rep.insert_many(data)\n",
    "print(insertion.inserted_count, \"items have been uploaded to Quest_Rep collection in StarkBotBD\")"
   ]
  },
  {
   "cell_type": "code",
   "execution_count": null,
   "id": "assumed-header",
   "metadata": {},
   "outputs": [],
   "source": []
  }
 ],
 "metadata": {
  "kernelspec": {
   "display_name": "Python 3",
   "language": "python",
   "name": "python3"
  },
  "language_info": {
   "codemirror_mode": {
    "name": "ipython",
    "version": 3
   },
   "file_extension": ".py",
   "mimetype": "text/x-python",
   "name": "python",
   "nbconvert_exporter": "python",
   "pygments_lexer": "ipython3",
   "version": "3.8.2"
  }
 },
 "nbformat": 4,
 "nbformat_minor": 5
}
